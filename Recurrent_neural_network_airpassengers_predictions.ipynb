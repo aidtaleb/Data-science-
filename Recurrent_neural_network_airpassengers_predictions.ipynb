{
  "nbformat": 4,
  "nbformat_minor": 0,
  "metadata": {
    "colab": {
      "name": "Recurrent neural network : airpassengers predictions.ipynb",
      "provenance": [],
      "collapsed_sections": [],
      "authorship_tag": "ABX9TyOG41PgVccGoSWyqZ2LfZhV",
      "include_colab_link": true
    },
    "kernelspec": {
      "name": "python3",
      "display_name": "Python 3"
    }
  },
  "cells": [
    {
      "cell_type": "markdown",
      "metadata": {
        "id": "view-in-github",
        "colab_type": "text"
      },
      "source": [
        "<a href=\"https://colab.research.google.com/github/aidtaleb/Data-science-/blob/master/Recurrent_neural_network_airpassengers_predictions.ipynb\" target=\"_parent\"><img src=\"https://colab.research.google.com/assets/colab-badge.svg\" alt=\"Open In Colab\"/></a>"
      ]
    },
    {
      "cell_type": "markdown",
      "metadata": {
        "id": "n2syXni3uf9w"
      },
      "source": [
        "**Recurrent neural network**\n",
        "\n",
        "\n",
        "> \n",
        "In this project i will use the RNN algorithme in order to predict the air passengers using a dataset uploeded from Kaggle.\n",
        "\n",
        "\n",
        "\n",
        "\n",
        "\n",
        "\n",
        "\n",
        "\n"
      ]
    },
    {
      "cell_type": "code",
      "metadata": {
        "id": "T3XYPALgKMVx"
      },
      "source": [
        "# import of packages \n",
        "import numpy as np \n",
        "import pandas as pd \n",
        "import matplotlib.pyplot as plt \n",
        "from tensorflow.keras.models import Sequential \n",
        "from tensorflow.keras.layers import Dense, Activation, Flatten \n",
        "from tensorflow.keras.layers import LSTM \n",
        "from sklearn.preprocessing import MinMaxScaler"
      ],
      "execution_count": null,
      "outputs": []
    },
    {
      "cell_type": "markdown",
      "metadata": {
        "id": "43K70ubcvqfG"
      },
      "source": [
        "Firstly we will upload the dataset from Kaggle "
      ]
    },
    {
      "cell_type": "code",
      "metadata": {
        "id": "zlI9M7MsLBpk",
        "outputId": "5e680389-b254-4d1a-b622-a3ad8f08c102",
        "colab": {
          "base_uri": "https://localhost:8080/",
          "height": 204
        }
      },
      "source": [
        "df =pd.read_csv('/content/airpassenger.csv')\n",
        "df.head()"
      ],
      "execution_count": null,
      "outputs": [
        {
          "output_type": "execute_result",
          "data": {
            "text/html": [
              "<div>\n",
              "<style scoped>\n",
              "    .dataframe tbody tr th:only-of-type {\n",
              "        vertical-align: middle;\n",
              "    }\n",
              "\n",
              "    .dataframe tbody tr th {\n",
              "        vertical-align: top;\n",
              "    }\n",
              "\n",
              "    .dataframe thead th {\n",
              "        text-align: right;\n",
              "    }\n",
              "</style>\n",
              "<table border=\"1\" class=\"dataframe\">\n",
              "  <thead>\n",
              "    <tr style=\"text-align: right;\">\n",
              "      <th></th>\n",
              "      <th>Month</th>\n",
              "      <th>#Passengers</th>\n",
              "    </tr>\n",
              "  </thead>\n",
              "  <tbody>\n",
              "    <tr>\n",
              "      <th>0</th>\n",
              "      <td>1949-01</td>\n",
              "      <td>112</td>\n",
              "    </tr>\n",
              "    <tr>\n",
              "      <th>1</th>\n",
              "      <td>1949-02</td>\n",
              "      <td>118</td>\n",
              "    </tr>\n",
              "    <tr>\n",
              "      <th>2</th>\n",
              "      <td>1949-03</td>\n",
              "      <td>132</td>\n",
              "    </tr>\n",
              "    <tr>\n",
              "      <th>3</th>\n",
              "      <td>1949-04</td>\n",
              "      <td>129</td>\n",
              "    </tr>\n",
              "    <tr>\n",
              "      <th>4</th>\n",
              "      <td>1949-05</td>\n",
              "      <td>121</td>\n",
              "    </tr>\n",
              "  </tbody>\n",
              "</table>\n",
              "</div>"
            ],
            "text/plain": [
              "     Month  #Passengers\n",
              "0  1949-01          112\n",
              "1  1949-02          118\n",
              "2  1949-03          132\n",
              "3  1949-04          129\n",
              "4  1949-05          121"
            ]
          },
          "metadata": {
            "tags": []
          },
          "execution_count": 5
        }
      ]
    },
    {
      "cell_type": "markdown",
      "metadata": {
        "id": "GflEx_WEv0nm"
      },
      "source": [
        "In this sextion we will prepare, analyse and normalise the dataset"
      ]
    },
    {
      "cell_type": "code",
      "metadata": {
        "id": "KWPDqmJnM9I5"
      },
      "source": [
        "\n",
        "sc=MinMaxScaler(feature_range=(0,1))\n",
        "data=df[['#Passengers']].values"
      ],
      "execution_count": null,
      "outputs": []
    },
    {
      "cell_type": "code",
      "metadata": {
        "id": "p2ZyJUEZOds6"
      },
      "source": [
        "data_scaled=sc.fit_transform(data)"
      ],
      "execution_count": null,
      "outputs": []
    },
    {
      "cell_type": "code",
      "metadata": {
        "id": "HU8w1h-yOyZt",
        "outputId": "9aa60fa9-66a4-4b14-ee5d-3d0bc42f6cb9",
        "colab": {
          "base_uri": "https://localhost:8080/",
          "height": 1000
        }
      },
      "source": [
        "x_input=[]\n",
        "x_output=[]\n",
        "look_back=1\n",
        "for  i in  range(len(data_scaled)-1):\n",
        "  x_input.append(data_scaled[i:(i+look_back),0])\n",
        "  x_output.append(data_scaled[i+look_back,0])\n",
        "\n",
        "x_input,x_ouput=np.array(x_input),np.array(x_output)\n",
        "\n",
        "print(x_input)\n",
        "print(x_output)"
      ],
      "execution_count": null,
      "outputs": [
        {
          "output_type": "stream",
          "text": [
            "[[0.01544402]\n",
            " [0.02702703]\n",
            " [0.05405405]\n",
            " [0.04826255]\n",
            " [0.03281853]\n",
            " [0.05984556]\n",
            " [0.08494208]\n",
            " [0.08494208]\n",
            " [0.06177606]\n",
            " [0.02895753]\n",
            " [0.        ]\n",
            " [0.02702703]\n",
            " [0.02123552]\n",
            " [0.04247104]\n",
            " [0.07142857]\n",
            " [0.05984556]\n",
            " [0.04054054]\n",
            " [0.08687259]\n",
            " [0.12741313]\n",
            " [0.12741313]\n",
            " [0.1042471 ]\n",
            " [0.05598456]\n",
            " [0.01930502]\n",
            " [0.06949807]\n",
            " [0.07915058]\n",
            " [0.08880309]\n",
            " [0.14285714]\n",
            " [0.11389961]\n",
            " [0.13127413]\n",
            " [0.14285714]\n",
            " [0.18339768]\n",
            " [0.18339768]\n",
            " [0.15444015]\n",
            " [0.11196911]\n",
            " [0.08108108]\n",
            " [0.11969112]\n",
            " [0.12934363]\n",
            " [0.14671815]\n",
            " [0.17181467]\n",
            " [0.14864865]\n",
            " [0.15250965]\n",
            " [0.22007722]\n",
            " [0.24324324]\n",
            " [0.26640927]\n",
            " [0.2027027 ]\n",
            " [0.16795367]\n",
            " [0.13127413]\n",
            " [0.17374517]\n",
            " [0.17760618]\n",
            " [0.17760618]\n",
            " [0.25482625]\n",
            " [0.25289575]\n",
            " [0.24131274]\n",
            " [0.26833977]\n",
            " [0.30888031]\n",
            " [0.32432432]\n",
            " [0.25675676]\n",
            " [0.20656371]\n",
            " [0.14671815]\n",
            " [0.18725869]\n",
            " [0.19305019]\n",
            " [0.16216216]\n",
            " [0.25289575]\n",
            " [0.23745174]\n",
            " [0.25096525]\n",
            " [0.30888031]\n",
            " [0.38223938]\n",
            " [0.36486486]\n",
            " [0.2992278 ]\n",
            " [0.24131274]\n",
            " [0.19111969]\n",
            " [0.24131274]\n",
            " [0.26640927]\n",
            " [0.24903475]\n",
            " [0.31467181]\n",
            " [0.31853282]\n",
            " [0.32046332]\n",
            " [0.40733591]\n",
            " [0.5019305 ]\n",
            " [0.46911197]\n",
            " [0.4015444 ]\n",
            " [0.32818533]\n",
            " [0.25675676]\n",
            " [0.33590734]\n",
            " [0.34749035]\n",
            " [0.33397683]\n",
            " [0.41119691]\n",
            " [0.4034749 ]\n",
            " [0.41312741]\n",
            " [0.52123552]\n",
            " [0.5965251 ]\n",
            " [0.58108108]\n",
            " [0.48455598]\n",
            " [0.38996139]\n",
            " [0.32239382]\n",
            " [0.38996139]\n",
            " [0.40733591]\n",
            " [0.38030888]\n",
            " [0.48648649]\n",
            " [0.47104247]\n",
            " [0.48455598]\n",
            " [0.61389961]\n",
            " [0.6969112 ]\n",
            " [0.7007722 ]\n",
            " [0.57915058]\n",
            " [0.46911197]\n",
            " [0.38803089]\n",
            " [0.44787645]\n",
            " [0.45559846]\n",
            " [0.41312741]\n",
            " [0.4980695 ]\n",
            " [0.47104247]\n",
            " [0.5       ]\n",
            " [0.63899614]\n",
            " [0.74710425]\n",
            " [0.77413127]\n",
            " [0.57915058]\n",
            " [0.49227799]\n",
            " [0.3976834 ]\n",
            " [0.44980695]\n",
            " [0.49420849]\n",
            " [0.45945946]\n",
            " [0.58301158]\n",
            " [0.56370656]\n",
            " [0.61003861]\n",
            " [0.71042471]\n",
            " [0.85714286]\n",
            " [0.87837838]\n",
            " [0.69305019]\n",
            " [0.58494208]\n",
            " [0.4980695 ]\n",
            " [0.58108108]\n",
            " [0.6042471 ]\n",
            " [0.55405405]\n",
            " [0.60810811]\n",
            " [0.68918919]\n",
            " [0.71042471]\n",
            " [0.83204633]\n",
            " [1.        ]\n",
            " [0.96911197]\n",
            " [0.77992278]\n",
            " [0.68918919]\n",
            " [0.55212355]]\n",
            "[0.02702702702702703, 0.05405405405405403, 0.04826254826254825, 0.03281853281853281, 0.05984555984555981, 0.08494208494208491, 0.08494208494208491, 0.06177606177606179, 0.028957528957528955, 0.0, 0.02702702702702703, 0.02123552123552122, 0.04247104247104247, 0.07142857142857142, 0.05984555984555981, 0.04054054054054054, 0.08687258687258684, 0.1274131274131274, 0.1274131274131274, 0.10424710424710423, 0.055984555984555956, 0.019305019305019294, 0.0694980694980695, 0.07915057915057913, 0.08880308880308882, 0.14285714285714288, 0.11389961389961387, 0.13127413127413126, 0.14285714285714288, 0.1833976833976834, 0.1833976833976834, 0.15444015444015444, 0.11196911196911194, 0.08108108108108106, 0.1196911196911197, 0.12934362934362933, 0.14671814671814673, 0.17181467181467183, 0.14864864864864866, 0.1525096525096525, 0.22007722007722005, 0.24324324324324323, 0.26640926640926643, 0.20270270270270271, 0.16795366795366792, 0.13127413127413126, 0.17374517374517376, 0.1776061776061776, 0.1776061776061776, 0.25482625482625487, 0.25289575289575295, 0.2413127413127413, 0.26833976833976836, 0.3088803088803088, 0.32432432432432434, 0.2567567567567568, 0.20656370656370657, 0.14671814671814673, 0.18725868725868725, 0.19305019305019303, 0.16216216216216214, 0.25289575289575295, 0.23745173745173745, 0.2509652509652509, 0.3088803088803088, 0.38223938223938225, 0.3648648648648648, 0.2992277992277992, 0.2413127413127413, 0.1911196911196911, 0.2413127413127413, 0.26640926640926643, 0.249034749034749, 0.3146718146718146, 0.31853281853281845, 0.3204633204633204, 0.4073359073359073, 0.5019305019305019, 0.46911196911196906, 0.4015444015444015, 0.3281853281853282, 0.2567567567567568, 0.3359073359073359, 0.34749034749034746, 0.333976833976834, 0.41119691119691115, 0.40347490347490345, 0.4131274131274131, 0.5212355212355212, 0.5965250965250966, 0.581081081081081, 0.4845559845559845, 0.38996138996138996, 0.3223938223938224, 0.38996138996138996, 0.4073359073359073, 0.3803088803088803, 0.4864864864864865, 0.471042471042471, 0.4845559845559845, 0.6138996138996139, 0.6969111969111969, 0.7007722007722007, 0.5791505791505791, 0.46911196911196906, 0.38803088803088803, 0.44787644787644787, 0.4555984555984556, 0.4131274131274131, 0.4980694980694981, 0.471042471042471, 0.5, 0.6389961389961389, 0.747104247104247, 0.7741312741312741, 0.5791505791505791, 0.4922779922779923, 0.39768339768339767, 0.4498069498069498, 0.4942084942084942, 0.45945945945945943, 0.583011583011583, 0.5637065637065637, 0.61003861003861, 0.7104247104247104, 0.8571428571428572, 0.8783783783783783, 0.693050193050193, 0.5849420849420849, 0.4980694980694981, 0.581081081081081, 0.6042471042471043, 0.5540540540540541, 0.6081081081081081, 0.6891891891891891, 0.7104247104247104, 0.832046332046332, 1.0, 0.9691119691119692, 0.7799227799227799, 0.6891891891891891, 0.5521235521235521, 0.6332046332046332]\n"
          ],
          "name": "stdout"
        }
      ]
    },
    {
      "cell_type": "code",
      "metadata": {
        "id": "I3_Mt-tTRVdS"
      },
      "source": [
        "# reshaping \n",
        "x_input=np.reshape(x_input,(x_input.shape[0],x_input.shape[1],1))"
      ],
      "execution_count": null,
      "outputs": []
    },
    {
      "cell_type": "code",
      "metadata": {
        "id": "V7svfabdSRec",
        "outputId": "172059c1-2d58-4d5e-d447-efd111260b6c",
        "colab": {
          "base_uri": "https://localhost:8080/",
          "height": 34
        }
      },
      "source": [
        "x_input.shape\n"
      ],
      "execution_count": null,
      "outputs": [
        {
          "output_type": "execute_result",
          "data": {
            "text/plain": [
              "(143, 1, 1)"
            ]
          },
          "metadata": {
            "tags": []
          },
          "execution_count": 47
        }
      ]
    },
    {
      "cell_type": "markdown",
      "metadata": {
        "id": "mTRdD2npwF0i"
      },
      "source": [
        "In order to realize the prediction we will split the dataset in two parties : training data and testing data "
      ]
    },
    {
      "cell_type": "code",
      "metadata": {
        "id": "BvwuZbYVSVw3"
      },
      "source": [
        "# split data into test and train \n",
        "train_size=int(len(x_input)*0.7)\n",
        "test_size=len(x_input) - train_size \n",
        "x_train=x_input[0:train_size,:]\n",
        "x_test=x_input[train_size: len(x_input),:]\n",
        "y_train=x_ouput[0:train_size]\n",
        "y_test=x_ouput[train_size:len(x_output)]\n"
      ],
      "execution_count": null,
      "outputs": []
    },
    {
      "cell_type": "markdown",
      "metadata": {
        "id": "ScPhL0r0wioW"
      },
      "source": [
        "In this section we will model the RNN algorithme as follows. "
      ]
    },
    {
      "cell_type": "code",
      "metadata": {
        "id": "NP_s7PKwTtaF",
        "outputId": "e6de9165-c797-4370-a88e-655641c4c513",
        "colab": {
          "base_uri": "https://localhost:8080/",
          "height": 289
        }
      },
      "source": [
        "#creation of RNN algorithme\n",
        "model=Sequential()\n",
        "model.add(LSTM(units=50, return_sequences=True, input_shape=(x_train.shape[1],1)))\n",
        "model.add(LSTM(units=50, return_sequences=True))\n",
        "model.add(LSTM(units=50))\n",
        "# add the output layer \n",
        "model.add(Dense(units=1))\n",
        "model.compile(optimizer='adam',loss='mean_squared_error')\n",
        "model.summary()"
      ],
      "execution_count": null,
      "outputs": [
        {
          "output_type": "stream",
          "text": [
            "Model: \"sequential_7\"\n",
            "_________________________________________________________________\n",
            "Layer (type)                 Output Shape              Param #   \n",
            "=================================================================\n",
            "lstm_14 (LSTM)               (None, 1, 50)             10400     \n",
            "_________________________________________________________________\n",
            "lstm_15 (LSTM)               (None, 1, 50)             20200     \n",
            "_________________________________________________________________\n",
            "lstm_16 (LSTM)               (None, 50)                20200     \n",
            "_________________________________________________________________\n",
            "dense_3 (Dense)              (None, 1)                 51        \n",
            "=================================================================\n",
            "Total params: 50,851\n",
            "Trainable params: 50,851\n",
            "Non-trainable params: 0\n",
            "_________________________________________________________________\n"
          ],
          "name": "stdout"
        }
      ]
    },
    {
      "cell_type": "code",
      "metadata": {
        "id": "gnt5QhIoU5Cz",
        "outputId": "441df91c-84cb-4cea-afd1-1c53645ec67c",
        "colab": {
          "base_uri": "https://localhost:8080/",
          "height": 1000
        }
      },
      "source": [
        "model.fit(x_train, y_train, epochs=100,batch_size=32)"
      ],
      "execution_count": null,
      "outputs": [
        {
          "output_type": "stream",
          "text": [
            "Epoch 1/100\n",
            "4/4 [==============================] - 0s 6ms/step - loss: 0.0698\n",
            "Epoch 2/100\n",
            "4/4 [==============================] - 0s 5ms/step - loss: 0.0636\n",
            "Epoch 3/100\n",
            "4/4 [==============================] - 0s 4ms/step - loss: 0.0572\n",
            "Epoch 4/100\n",
            "4/4 [==============================] - 0s 4ms/step - loss: 0.0507\n",
            "Epoch 5/100\n",
            "4/4 [==============================] - 0s 4ms/step - loss: 0.0438\n",
            "Epoch 6/100\n",
            "4/4 [==============================] - 0s 4ms/step - loss: 0.0366\n",
            "Epoch 7/100\n",
            "4/4 [==============================] - 0s 4ms/step - loss: 0.0299\n",
            "Epoch 8/100\n",
            "4/4 [==============================] - 0s 4ms/step - loss: 0.0244\n",
            "Epoch 9/100\n",
            "4/4 [==============================] - 0s 4ms/step - loss: 0.0195\n",
            "Epoch 10/100\n",
            "4/4 [==============================] - 0s 4ms/step - loss: 0.0173\n",
            "Epoch 11/100\n",
            "4/4 [==============================] - 0s 4ms/step - loss: 0.0165\n",
            "Epoch 12/100\n",
            "4/4 [==============================] - 0s 5ms/step - loss: 0.0166\n",
            "Epoch 13/100\n",
            "4/4 [==============================] - 0s 4ms/step - loss: 0.0164\n",
            "Epoch 14/100\n",
            "4/4 [==============================] - 0s 4ms/step - loss: 0.0155\n",
            "Epoch 15/100\n",
            "4/4 [==============================] - 0s 4ms/step - loss: 0.0150\n",
            "Epoch 16/100\n",
            "4/4 [==============================] - 0s 4ms/step - loss: 0.0147\n",
            "Epoch 17/100\n",
            "4/4 [==============================] - 0s 5ms/step - loss: 0.0145\n",
            "Epoch 18/100\n",
            "4/4 [==============================] - 0s 4ms/step - loss: 0.0138\n",
            "Epoch 19/100\n",
            "4/4 [==============================] - 0s 4ms/step - loss: 0.0128\n",
            "Epoch 20/100\n",
            "4/4 [==============================] - 0s 4ms/step - loss: 0.0121\n",
            "Epoch 21/100\n",
            "4/4 [==============================] - 0s 4ms/step - loss: 0.0114\n",
            "Epoch 22/100\n",
            "4/4 [==============================] - 0s 4ms/step - loss: 0.0106\n",
            "Epoch 23/100\n",
            "4/4 [==============================] - 0s 5ms/step - loss: 0.0097\n",
            "Epoch 24/100\n",
            "4/4 [==============================] - 0s 4ms/step - loss: 0.0090\n",
            "Epoch 25/100\n",
            "4/4 [==============================] - 0s 4ms/step - loss: 0.0081\n",
            "Epoch 26/100\n",
            "4/4 [==============================] - 0s 4ms/step - loss: 0.0072\n",
            "Epoch 27/100\n",
            "4/4 [==============================] - 0s 4ms/step - loss: 0.0063\n",
            "Epoch 28/100\n",
            "4/4 [==============================] - 0s 5ms/step - loss: 0.0054\n",
            "Epoch 29/100\n",
            "4/4 [==============================] - 0s 4ms/step - loss: 0.0046\n",
            "Epoch 30/100\n",
            "4/4 [==============================] - 0s 4ms/step - loss: 0.0039\n",
            "Epoch 31/100\n",
            "4/4 [==============================] - 0s 4ms/step - loss: 0.0033\n",
            "Epoch 32/100\n",
            "4/4 [==============================] - 0s 4ms/step - loss: 0.0029\n",
            "Epoch 33/100\n",
            "4/4 [==============================] - 0s 4ms/step - loss: 0.0026\n",
            "Epoch 34/100\n",
            "4/4 [==============================] - 0s 5ms/step - loss: 0.0025\n",
            "Epoch 35/100\n",
            "4/4 [==============================] - 0s 5ms/step - loss: 0.0024\n",
            "Epoch 36/100\n",
            "4/4 [==============================] - 0s 5ms/step - loss: 0.0023\n",
            "Epoch 37/100\n",
            "4/4 [==============================] - 0s 4ms/step - loss: 0.0024\n",
            "Epoch 38/100\n",
            "4/4 [==============================] - 0s 5ms/step - loss: 0.0023\n",
            "Epoch 39/100\n",
            "4/4 [==============================] - 0s 4ms/step - loss: 0.0024\n",
            "Epoch 40/100\n",
            "4/4 [==============================] - 0s 4ms/step - loss: 0.0024\n",
            "Epoch 41/100\n",
            "4/4 [==============================] - 0s 4ms/step - loss: 0.0023\n",
            "Epoch 42/100\n",
            "4/4 [==============================] - 0s 4ms/step - loss: 0.0023\n",
            "Epoch 43/100\n",
            "4/4 [==============================] - 0s 4ms/step - loss: 0.0023\n",
            "Epoch 44/100\n",
            "4/4 [==============================] - 0s 4ms/step - loss: 0.0023\n",
            "Epoch 45/100\n",
            "4/4 [==============================] - 0s 4ms/step - loss: 0.0023\n",
            "Epoch 46/100\n",
            "4/4 [==============================] - 0s 4ms/step - loss: 0.0022\n",
            "Epoch 47/100\n",
            "4/4 [==============================] - 0s 4ms/step - loss: 0.0023\n",
            "Epoch 48/100\n",
            "4/4 [==============================] - 0s 5ms/step - loss: 0.0025\n",
            "Epoch 49/100\n",
            "4/4 [==============================] - 0s 4ms/step - loss: 0.0023\n",
            "Epoch 50/100\n",
            "4/4 [==============================] - 0s 4ms/step - loss: 0.0023\n",
            "Epoch 51/100\n",
            "4/4 [==============================] - 0s 4ms/step - loss: 0.0024\n",
            "Epoch 52/100\n",
            "4/4 [==============================] - 0s 4ms/step - loss: 0.0022\n",
            "Epoch 53/100\n",
            "4/4 [==============================] - 0s 6ms/step - loss: 0.0024\n",
            "Epoch 54/100\n",
            "4/4 [==============================] - 0s 4ms/step - loss: 0.0023\n",
            "Epoch 55/100\n",
            "4/4 [==============================] - 0s 4ms/step - loss: 0.0022\n",
            "Epoch 56/100\n",
            "4/4 [==============================] - 0s 5ms/step - loss: 0.0023\n",
            "Epoch 57/100\n",
            "4/4 [==============================] - 0s 4ms/step - loss: 0.0022\n",
            "Epoch 58/100\n",
            "4/4 [==============================] - 0s 5ms/step - loss: 0.0022\n",
            "Epoch 59/100\n",
            "4/4 [==============================] - 0s 4ms/step - loss: 0.0023\n",
            "Epoch 60/100\n",
            "4/4 [==============================] - 0s 4ms/step - loss: 0.0022\n",
            "Epoch 61/100\n",
            "4/4 [==============================] - 0s 4ms/step - loss: 0.0023\n",
            "Epoch 62/100\n",
            "4/4 [==============================] - 0s 4ms/step - loss: 0.0026\n",
            "Epoch 63/100\n",
            "4/4 [==============================] - 0s 5ms/step - loss: 0.0025\n",
            "Epoch 64/100\n",
            "4/4 [==============================] - 0s 4ms/step - loss: 0.0023\n",
            "Epoch 65/100\n",
            "4/4 [==============================] - 0s 4ms/step - loss: 0.0023\n",
            "Epoch 66/100\n",
            "4/4 [==============================] - 0s 4ms/step - loss: 0.0022\n",
            "Epoch 67/100\n",
            "4/4 [==============================] - 0s 4ms/step - loss: 0.0022\n",
            "Epoch 68/100\n",
            "4/4 [==============================] - 0s 4ms/step - loss: 0.0022\n",
            "Epoch 69/100\n",
            "4/4 [==============================] - 0s 4ms/step - loss: 0.0022\n",
            "Epoch 70/100\n",
            "4/4 [==============================] - 0s 5ms/step - loss: 0.0022\n",
            "Epoch 71/100\n",
            "4/4 [==============================] - 0s 5ms/step - loss: 0.0024\n",
            "Epoch 72/100\n",
            "4/4 [==============================] - 0s 4ms/step - loss: 0.0023\n",
            "Epoch 73/100\n",
            "4/4 [==============================] - 0s 4ms/step - loss: 0.0022\n",
            "Epoch 74/100\n",
            "4/4 [==============================] - 0s 5ms/step - loss: 0.0022\n",
            "Epoch 75/100\n",
            "4/4 [==============================] - 0s 5ms/step - loss: 0.0021\n",
            "Epoch 76/100\n",
            "4/4 [==============================] - 0s 6ms/step - loss: 0.0021\n",
            "Epoch 77/100\n",
            "4/4 [==============================] - 0s 5ms/step - loss: 0.0022\n",
            "Epoch 78/100\n",
            "4/4 [==============================] - 0s 5ms/step - loss: 0.0021\n",
            "Epoch 79/100\n",
            "4/4 [==============================] - 0s 4ms/step - loss: 0.0022\n",
            "Epoch 80/100\n",
            "4/4 [==============================] - 0s 4ms/step - loss: 0.0021\n",
            "Epoch 81/100\n",
            "4/4 [==============================] - 0s 4ms/step - loss: 0.0022\n",
            "Epoch 82/100\n",
            "4/4 [==============================] - 0s 4ms/step - loss: 0.0022\n",
            "Epoch 83/100\n",
            "4/4 [==============================] - 0s 5ms/step - loss: 0.0021\n",
            "Epoch 84/100\n",
            "4/4 [==============================] - 0s 5ms/step - loss: 0.0021\n",
            "Epoch 85/100\n",
            "4/4 [==============================] - 0s 5ms/step - loss: 0.0021\n",
            "Epoch 86/100\n",
            "4/4 [==============================] - 0s 4ms/step - loss: 0.0024\n",
            "Epoch 87/100\n",
            "4/4 [==============================] - 0s 4ms/step - loss: 0.0024\n",
            "Epoch 88/100\n",
            "4/4 [==============================] - 0s 5ms/step - loss: 0.0022\n",
            "Epoch 89/100\n",
            "4/4 [==============================] - 0s 4ms/step - loss: 0.0021\n",
            "Epoch 90/100\n",
            "4/4 [==============================] - 0s 4ms/step - loss: 0.0022\n",
            "Epoch 91/100\n",
            "4/4 [==============================] - 0s 4ms/step - loss: 0.0021\n",
            "Epoch 92/100\n",
            "4/4 [==============================] - 0s 4ms/step - loss: 0.0021\n",
            "Epoch 93/100\n",
            "4/4 [==============================] - 0s 5ms/step - loss: 0.0022\n",
            "Epoch 94/100\n",
            "4/4 [==============================] - 0s 6ms/step - loss: 0.0021\n",
            "Epoch 95/100\n",
            "4/4 [==============================] - 0s 4ms/step - loss: 0.0021\n",
            "Epoch 96/100\n",
            "4/4 [==============================] - 0s 4ms/step - loss: 0.0023\n",
            "Epoch 97/100\n",
            "4/4 [==============================] - 0s 4ms/step - loss: 0.0022\n",
            "Epoch 98/100\n",
            "4/4 [==============================] - 0s 4ms/step - loss: 0.0021\n",
            "Epoch 99/100\n",
            "4/4 [==============================] - 0s 4ms/step - loss: 0.0021\n",
            "Epoch 100/100\n",
            "4/4 [==============================] - 0s 4ms/step - loss: 0.0022\n"
          ],
          "name": "stdout"
        },
        {
          "output_type": "execute_result",
          "data": {
            "text/plain": [
              "<tensorflow.python.keras.callbacks.History at 0x7fc861ffc7b8>"
            ]
          },
          "metadata": {
            "tags": []
          },
          "execution_count": 50
        }
      ]
    },
    {
      "cell_type": "markdown",
      "metadata": {
        "id": "3SA9oWR1w6DO"
      },
      "source": [
        "After that our model is trained, now we will use it for prediction "
      ]
    },
    {
      "cell_type": "code",
      "metadata": {
        "id": "kMU_GGo4WBuP"
      },
      "source": [
        "# do the predictions  \n",
        "y_pred=model.predict(x_test)"
      ],
      "execution_count": null,
      "outputs": []
    },
    {
      "cell_type": "code",
      "metadata": {
        "id": "BapHTWhKmu-X",
        "outputId": "bd4a63d6-754f-42b4-cd10-9e2128f9aca4",
        "colab": {
          "base_uri": "https://localhost:8080/",
          "height": 282
        }
      },
      "source": [
        "# visualize the result\n",
        "plt.plot(y_test,color='red',label='nombre de passagers reel')\n",
        "plt.plot(y_pred,color='blue',label='nombre de passagers prévus')"
      ],
      "execution_count": null,
      "outputs": [
        {
          "output_type": "execute_result",
          "data": {
            "text/plain": [
              "[<matplotlib.lines.Line2D at 0x7fc85e534b38>]"
            ]
          },
          "metadata": {
            "tags": []
          },
          "execution_count": 52
        },
        {
          "output_type": "display_data",
          "data": {
            "image/png": "[encoded data removed]",
            "text/plain": [
              "<Figure size 432x288 with 1 Axes>"
            ]
          },
          "metadata": {
            "tags": [],
            "needs_background": "light"
          }
        }
      ]
    },
    {
      "cell_type": "code",
      "metadata": {
        "id": "xR2fGv3bnKMB"
      },
      "source": [
        ""
      ],
      "execution_count": null,
      "outputs": []
    },
    {
      "cell_type": "code",
      "metadata": {
        "id": "DxGV-tqJnpob"
      },
      "source": [
        ""
      ],
      "execution_count": null,
      "outputs": []
    }
  ]
}